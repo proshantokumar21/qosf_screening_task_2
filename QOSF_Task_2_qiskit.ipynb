{
  "nbformat": 4,
  "nbformat_minor": 0,
  "metadata": {
    "colab": {
      "provenance": []
    },
    "kernelspec": {
      "name": "python3",
      "display_name": "Python 3"
    },
    "language_info": {
      "name": "python"
    }
  },
  "cells": [
    {
      "cell_type": "code",
      "execution_count": null,
      "metadata": {
        "id": "dwF7sAFZgwtf"
      },
      "outputs": [],
      "source": [
        "# Install necessay libraries\n",
        "!pip install qiskit\n",
        "!pip install qiskit_ibm_runtime\n",
        "!pip install pylatexenc\n",
        "!pip install matplotlib"
      ]
    },
    {
      "cell_type": "code",
      "source": [
        "# Import necessary libraries\n",
        "# Built-in modules\n",
        "import math\n",
        "\n",
        "# Imports from Qiskit\n",
        "from qiskit.circuit.library import GroverOperator, MCMT, ZGate\n",
        "from qiskit import transpile, QuantumRegister, ClassicalRegister, QuantumCircuit\n",
        "from qiskit.providers.basic_provider import BasicProvider"
      ],
      "metadata": {
        "id": "ef5V5mx19rQb"
      },
      "execution_count": 3,
      "outputs": []
    },
    {
      "cell_type": "code",
      "source": [
        "# Use \"basic_simulator\" as backend provider to simulate quantum circuit\n",
        "backend = BasicProvider().get_backend('basic_simulator')"
      ],
      "metadata": {
        "id": "3FMjSEQQ_RKb"
      },
      "execution_count": 4,
      "outputs": []
    },
    {
      "cell_type": "code",
      "source": [
        "# Define a Grover oracle which marks the states corresponding to the desired even numbers\n",
        "# During marking we will consider the 0th qubit always in state 0 because\n",
        "# this is the signature of a even number like: 010, 1100, 1110, 101010\n",
        "def grover_oracle(marked_states, num_qubits):\n",
        "    \"\"\"Build a Grover oracle for multiple marked states\n",
        "\n",
        "    Parameters:\n",
        "        marked_states (list): Marked states of oracle\n",
        "        num_qubits (int): Number of qubits\n",
        "\n",
        "    Returns:\n",
        "        QuantumCircuit: Quantum circuit representing Grover oracle\n",
        "    \"\"\"\n",
        "    qc = QuantumCircuit(num_qubits)\n",
        "\n",
        "    # We keep track of the marked even numbers to avoid marking them twice\n",
        "    done_mark = []\n",
        "\n",
        "    # Mark each target state in the input list\n",
        "    for target in marked_states:\n",
        "        # Flip target bit-string to match Qiskit bit-ordering\n",
        "        rev_target = target[::-1]\n",
        "        if rev_target[1:] not in done_mark:\n",
        "            # Find the indices of all the '0' elements in bit-string\n",
        "            zero_inds = [0] # 0th qubit is always 0 for even numbers\n",
        "            zero_inds.extend([ind for ind in range(1, num_qubits) if rev_target.startswith(\"0\", ind)])\n",
        "            # Add a multi-controlled Z-gate with pre- and post-applied X-gates (open-controls)\n",
        "            # where the target bit-string has a '0' entry\n",
        "            qc.x(zero_inds)\n",
        "            qc.compose(MCMT(ZGate(), num_qubits - 1, 1), inplace=True)\n",
        "            qc.x(zero_inds)\n",
        "            done_mark.append(rev_target[1:])\n",
        "    return qc"
      ],
      "metadata": {
        "id": "_0viMZTl_uZv"
      },
      "execution_count": 5,
      "outputs": []
    },
    {
      "cell_type": "code",
      "source": [
        "def odd_to_even(n, lst):\n",
        "    \"\"\"\n",
        "    Build a function that uses quantum circuit to convert\n",
        "    all odd numbers to even numbers\n",
        "\n",
        "    Parameters:\n",
        "        n (int): The maximum number\n",
        "        lst (list): List of numbers\n",
        "\n",
        "    Returns:\n",
        "        list: A list where all numbers are even\n",
        "    \"\"\"\n",
        "    # Calculate the number of required qubits\n",
        "    k = math.ceil(math.log2(n))\n",
        "\n",
        "    # Convert the list of numbers from decimal to binary\n",
        "    marked_states = [bin(num)[2:].zfill(k) for num in lst]\n",
        "\n",
        "    # Prepare an oracle for the marked states\n",
        "    oracle = grover_oracle(marked_states, k)\n",
        "\n",
        "    # Count the number of multi-control z gate in the oracle.\n",
        "    # This represents the number of unique marked elements\n",
        "    num_marked = dict(oracle.count_ops())[\"ccx\" if k==3 else f\"c{k-1}z\"]\n",
        "\n",
        "    # Append the diffusion operator\n",
        "    grover_op = GroverOperator(oracle)\n",
        "\n",
        "    # Determine the optimal number of iterations\n",
        "    optimal_num_iterations = max(1, math.floor(\n",
        "        math.pi / (4 * math.asin(math.sqrt(5 / 2**grover_op.num_qubits)))\n",
        "        ))\n",
        "\n",
        "    # Everything is set. Prepare the Quantum Circuit\n",
        "    qc = QuantumCircuit(k)\n",
        "\n",
        "    # Create even superposition of all basis states\n",
        "    qc.h(range(grover_op.num_qubits))\n",
        "\n",
        "    # Apply Grover operator the optimal number of times\n",
        "    qc.compose(grover_op.power(optimal_num_iterations), inplace=True)\n",
        "\n",
        "    # Measure all qubits\n",
        "    qc.measure_all()\n",
        "\n",
        "    # Draw the final circuit\n",
        "    qc.decompose().draw(output=\"mpl\", style=\"iqp\")\n",
        "\n",
        "    # Simulate the circuit\n",
        "    tqc = transpile(qc, backend)\n",
        "    counts = backend.run(tqc, shots=10000).result().get_counts()\n",
        "\n",
        "    # Selected even numbers\n",
        "    marked_even = sorted(counts, key=counts.get, reverse=True)[:num_marked]\n",
        "\n",
        "    # Convert to decimal\n",
        "    marked_even = [int(j, 2) for j in marked_even]\n",
        "    # Delete 0 from the list since we have to remain within [1,n)\n",
        "    if 0 in marked_even:\n",
        "        marked_even.remove(0)\n",
        "\n",
        "    # Prepare the even list\n",
        "    ev_list = []\n",
        "    for j in lst:\n",
        "        if j in marked_even:\n",
        "            ev_list.append(j)\n",
        "        elif j+1 in marked_even:\n",
        "            ev_list.append(j+1)\n",
        "        else:\n",
        "            ev_list.append(j-1)\n",
        "\n",
        "    return ev_list"
      ],
      "metadata": {
        "id": "BAjVY5QvBXEt"
      },
      "execution_count": 6,
      "outputs": []
    },
    {
      "cell_type": "code",
      "source": [
        "n = 31\n",
        "lst = [1,2,2,4,5,6,7,11,25,26,28,29]\n",
        "ev_lst = odd_to_even(n, lst)\n",
        "print(ev_lst)"
      ],
      "metadata": {
        "colab": {
          "base_uri": "https://localhost:8080/"
        },
        "id": "nkAdW4kFKeUT",
        "outputId": "275b0d97-09c3-4ccc-b6cd-4748f29bb0b7"
      },
      "execution_count": 8,
      "outputs": [
        {
          "output_type": "stream",
          "name": "stdout",
          "text": [
            "[2, 2, 2, 4, 6, 6, 6, 10, 26, 26, 28, 28]\n"
          ]
        }
      ]
    }
  ]
}